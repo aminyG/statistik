{
  "nbformat": 4,
  "nbformat_minor": 0,
  "metadata": {
    "colab": {
      "provenance": [],
      "authorship_tag": "ABX9TyP8D9oyRUfhDkoe7YfFN/nZ",
      "include_colab_link": true
    },
    "kernelspec": {
      "name": "python3",
      "display_name": "Python 3"
    },
    "language_info": {
      "name": "python"
    }
  },
  "cells": [
    {
      "cell_type": "markdown",
      "metadata": {
        "id": "view-in-github",
        "colab_type": "text"
      },
      "source": [
        "<a href=\"https://colab.research.google.com/github/aminyG/statistik/blob/main/Statistic_quiz2.ipynb\" target=\"_parent\"><img src=\"https://colab.research.google.com/assets/colab-badge.svg\" alt=\"Open In Colab\"/></a>"
      ]
    },
    {
      "cell_type": "markdown",
      "source": [
        "## Aminy Ghaisan N\n",
        "## TI-2I (03)\n",
        "## 2141720163"
      ],
      "metadata": {
        "id": "BagTV9awZtoO"
      }
    },
    {
      "cell_type": "markdown",
      "source": [
        "### no 1\n",
        "Mean of CP for Pokemons fire type is 281,67 while the standard deviation is 323,07. If the CP value is assumed as normally distributed, what is the probability of 100 Pokemons fire type have CP value below 290?"
      ],
      "metadata": {
        "id": "8NLmQFB79Gt_"
      }
    },
    {
      "cell_type": "code",
      "execution_count": 1,
      "metadata": {
        "colab": {
          "base_uri": "https://localhost:8080/"
        },
        "id": "LllpWQAp77CN",
        "outputId": "22781ab4-8588-4d9a-d399-321bfdbdab8e"
      },
      "outputs": [
        {
          "output_type": "stream",
          "name": "stdout",
          "text": [
            "The probability of 100 Fire-type Pokémon having a CP value below 290 is: 0.6017343632782693\n"
          ]
        }
      ],
      "source": [
        "import scipy.stats as stats\n",
        "\n",
        "mean = 281.67\n",
        "std_dev = 323.07\n",
        "sample_size = 100\n",
        "cp_value = 290\n",
        "\n",
        "# Calculate the standard error\n",
        "se = std_dev / (sample_size ** 0.5)\n",
        "\n",
        "# Calculate the z-score\n",
        "z_score = (cp_value - mean) / se\n",
        "\n",
        "# Calculate the probability using the cumulative distribution function (CDF)\n",
        "probability = stats.norm.cdf(z_score)\n",
        "\n",
        "# Print the result\n",
        "print(\"The probability of 100 Fire-type Pokémon having a CP value below 290 is:\", probability)\n"
      ]
    },
    {
      "cell_type": "markdown",
      "source": [
        "Therefore, the probability of 100 Fire-type Pokémon having a CP value below 290 is approximately 0.6017 or 60.17%"
      ],
      "metadata": {
        "id": "JB3OKDYm-Rwi"
      }
    },
    {
      "cell_type": "markdown",
      "source": [
        "### no 2\n",
        "Suppose the caught pokemons have variance of HP is 1948,24. By choosing 25 pokemons randomly, the mean is 53,56. Determine the range of population average from the HP by using confidential level is 95%"
      ],
      "metadata": {
        "id": "gkbHJ7Iw9UVZ"
      }
    },
    {
      "cell_type": "code",
      "source": [
        "import math\n",
        "import scipy.stats as stats\n",
        "\n",
        "variance = 1948.24\n",
        "sample_size = 25\n",
        "sample_mean = 53.56\n",
        "confidence_level = 0.95\n",
        "\n",
        "# Calculate the standard error\n",
        "se = math.sqrt(variance / sample_size)\n",
        "\n",
        "# Find the critical value (t-score) for the given confidence level and degrees of freedom\n",
        "degrees_of_freedom = sample_size - 1\n",
        "critical_value = stats.t.ppf((1 + confidence_level) / 2, degrees_of_freedom)\n",
        "\n",
        "# Calculate the margin of error\n",
        "me = critical_value * se\n",
        "\n",
        "# Calculate the confidence interval\n",
        "confidence_interval = (sample_mean - me, sample_mean + me)\n",
        "\n",
        "# Print the result\n",
        "print(\"The range of the population average HP with a 95% confidence level is:\", confidence_interval)\n"
      ],
      "metadata": {
        "colab": {
          "base_uri": "https://localhost:8080/"
        },
        "id": "hykcIryF9osq",
        "outputId": "1c699ac2-4685-46f1-ee1d-85df4cec52bf"
      },
      "execution_count": 10,
      "outputs": [
        {
          "output_type": "stream",
          "name": "stdout",
          "text": [
            "The range of the population average HP with a 95% confidence level is: (35.340369213679466, 71.77963078632054)\n"
          ]
        }
      ]
    },
    {
      "cell_type": "markdown",
      "source": [
        "Therefore, the range of the population average HP, with a 95% confidence level, is approximately 35.34 to 71.78. This means we can be 95% confident that the true population average HP falls within this range based on the given sample data."
      ],
      "metadata": {
        "id": "M7KqUN9s-6Ni"
      }
    },
    {
      "cell_type": "markdown",
      "source": [
        "### no 3\n",
        "Determine the standard deviation of caught Pokemon! (5 poin)\n",
        "\n",
        "b. Determine the standard deviation of flee Pokemon! (5 poin)\n",
        "\n",
        "c. Are the caught Pokemon and flee Pokemon groups homogen? Use Harley testing to justify your answer. (10 poin)"
      ],
      "metadata": {
        "id": "GA4pQ2Gn_Eaa"
      }
    },
    {
      "cell_type": "code",
      "source": [
        "from google.colab import files\n",
        "uploaded = files.upload()"
      ],
      "metadata": {
        "colab": {
          "base_uri": "https://localhost:8080/",
          "height": 73
        },
        "id": "v3cVWFrM_TNh",
        "outputId": "3ddca4f9-6add-44d5-98e7-dfc129ee33b6"
      },
      "execution_count": 11,
      "outputs": [
        {
          "output_type": "display_data",
          "data": {
            "text/plain": [
              "<IPython.core.display.HTML object>"
            ],
            "text/html": [
              "\n",
              "     <input type=\"file\" id=\"files-1ada5310-8f05-44c6-a7f7-fc6c9965746b\" name=\"files[]\" multiple disabled\n",
              "        style=\"border:none\" />\n",
              "     <output id=\"result-1ada5310-8f05-44c6-a7f7-fc6c9965746b\">\n",
              "      Upload widget is only available when the cell has been executed in the\n",
              "      current browser session. Please rerun this cell to enable.\n",
              "      </output>\n",
              "      <script>// Copyright 2017 Google LLC\n",
              "//\n",
              "// Licensed under the Apache License, Version 2.0 (the \"License\");\n",
              "// you may not use this file except in compliance with the License.\n",
              "// You may obtain a copy of the License at\n",
              "//\n",
              "//      http://www.apache.org/licenses/LICENSE-2.0\n",
              "//\n",
              "// Unless required by applicable law or agreed to in writing, software\n",
              "// distributed under the License is distributed on an \"AS IS\" BASIS,\n",
              "// WITHOUT WARRANTIES OR CONDITIONS OF ANY KIND, either express or implied.\n",
              "// See the License for the specific language governing permissions and\n",
              "// limitations under the License.\n",
              "\n",
              "/**\n",
              " * @fileoverview Helpers for google.colab Python module.\n",
              " */\n",
              "(function(scope) {\n",
              "function span(text, styleAttributes = {}) {\n",
              "  const element = document.createElement('span');\n",
              "  element.textContent = text;\n",
              "  for (const key of Object.keys(styleAttributes)) {\n",
              "    element.style[key] = styleAttributes[key];\n",
              "  }\n",
              "  return element;\n",
              "}\n",
              "\n",
              "// Max number of bytes which will be uploaded at a time.\n",
              "const MAX_PAYLOAD_SIZE = 100 * 1024;\n",
              "\n",
              "function _uploadFiles(inputId, outputId) {\n",
              "  const steps = uploadFilesStep(inputId, outputId);\n",
              "  const outputElement = document.getElementById(outputId);\n",
              "  // Cache steps on the outputElement to make it available for the next call\n",
              "  // to uploadFilesContinue from Python.\n",
              "  outputElement.steps = steps;\n",
              "\n",
              "  return _uploadFilesContinue(outputId);\n",
              "}\n",
              "\n",
              "// This is roughly an async generator (not supported in the browser yet),\n",
              "// where there are multiple asynchronous steps and the Python side is going\n",
              "// to poll for completion of each step.\n",
              "// This uses a Promise to block the python side on completion of each step,\n",
              "// then passes the result of the previous step as the input to the next step.\n",
              "function _uploadFilesContinue(outputId) {\n",
              "  const outputElement = document.getElementById(outputId);\n",
              "  const steps = outputElement.steps;\n",
              "\n",
              "  const next = steps.next(outputElement.lastPromiseValue);\n",
              "  return Promise.resolve(next.value.promise).then((value) => {\n",
              "    // Cache the last promise value to make it available to the next\n",
              "    // step of the generator.\n",
              "    outputElement.lastPromiseValue = value;\n",
              "    return next.value.response;\n",
              "  });\n",
              "}\n",
              "\n",
              "/**\n",
              " * Generator function which is called between each async step of the upload\n",
              " * process.\n",
              " * @param {string} inputId Element ID of the input file picker element.\n",
              " * @param {string} outputId Element ID of the output display.\n",
              " * @return {!Iterable<!Object>} Iterable of next steps.\n",
              " */\n",
              "function* uploadFilesStep(inputId, outputId) {\n",
              "  const inputElement = document.getElementById(inputId);\n",
              "  inputElement.disabled = false;\n",
              "\n",
              "  const outputElement = document.getElementById(outputId);\n",
              "  outputElement.innerHTML = '';\n",
              "\n",
              "  const pickedPromise = new Promise((resolve) => {\n",
              "    inputElement.addEventListener('change', (e) => {\n",
              "      resolve(e.target.files);\n",
              "    });\n",
              "  });\n",
              "\n",
              "  const cancel = document.createElement('button');\n",
              "  inputElement.parentElement.appendChild(cancel);\n",
              "  cancel.textContent = 'Cancel upload';\n",
              "  const cancelPromise = new Promise((resolve) => {\n",
              "    cancel.onclick = () => {\n",
              "      resolve(null);\n",
              "    };\n",
              "  });\n",
              "\n",
              "  // Wait for the user to pick the files.\n",
              "  const files = yield {\n",
              "    promise: Promise.race([pickedPromise, cancelPromise]),\n",
              "    response: {\n",
              "      action: 'starting',\n",
              "    }\n",
              "  };\n",
              "\n",
              "  cancel.remove();\n",
              "\n",
              "  // Disable the input element since further picks are not allowed.\n",
              "  inputElement.disabled = true;\n",
              "\n",
              "  if (!files) {\n",
              "    return {\n",
              "      response: {\n",
              "        action: 'complete',\n",
              "      }\n",
              "    };\n",
              "  }\n",
              "\n",
              "  for (const file of files) {\n",
              "    const li = document.createElement('li');\n",
              "    li.append(span(file.name, {fontWeight: 'bold'}));\n",
              "    li.append(span(\n",
              "        `(${file.type || 'n/a'}) - ${file.size} bytes, ` +\n",
              "        `last modified: ${\n",
              "            file.lastModifiedDate ? file.lastModifiedDate.toLocaleDateString() :\n",
              "                                    'n/a'} - `));\n",
              "    const percent = span('0% done');\n",
              "    li.appendChild(percent);\n",
              "\n",
              "    outputElement.appendChild(li);\n",
              "\n",
              "    const fileDataPromise = new Promise((resolve) => {\n",
              "      const reader = new FileReader();\n",
              "      reader.onload = (e) => {\n",
              "        resolve(e.target.result);\n",
              "      };\n",
              "      reader.readAsArrayBuffer(file);\n",
              "    });\n",
              "    // Wait for the data to be ready.\n",
              "    let fileData = yield {\n",
              "      promise: fileDataPromise,\n",
              "      response: {\n",
              "        action: 'continue',\n",
              "      }\n",
              "    };\n",
              "\n",
              "    // Use a chunked sending to avoid message size limits. See b/62115660.\n",
              "    let position = 0;\n",
              "    do {\n",
              "      const length = Math.min(fileData.byteLength - position, MAX_PAYLOAD_SIZE);\n",
              "      const chunk = new Uint8Array(fileData, position, length);\n",
              "      position += length;\n",
              "\n",
              "      const base64 = btoa(String.fromCharCode.apply(null, chunk));\n",
              "      yield {\n",
              "        response: {\n",
              "          action: 'append',\n",
              "          file: file.name,\n",
              "          data: base64,\n",
              "        },\n",
              "      };\n",
              "\n",
              "      let percentDone = fileData.byteLength === 0 ?\n",
              "          100 :\n",
              "          Math.round((position / fileData.byteLength) * 100);\n",
              "      percent.textContent = `${percentDone}% done`;\n",
              "\n",
              "    } while (position < fileData.byteLength);\n",
              "  }\n",
              "\n",
              "  // All done.\n",
              "  yield {\n",
              "    response: {\n",
              "      action: 'complete',\n",
              "    }\n",
              "  };\n",
              "}\n",
              "\n",
              "scope.google = scope.google || {};\n",
              "scope.google.colab = scope.google.colab || {};\n",
              "scope.google.colab._files = {\n",
              "  _uploadFiles,\n",
              "  _uploadFilesContinue,\n",
              "};\n",
              "})(self);\n",
              "</script> "
            ]
          },
          "metadata": {}
        },
        {
          "output_type": "stream",
          "name": "stdout",
          "text": [
            "Saving Pokemon.csv to Pokemon.csv\n"
          ]
        }
      ]
    },
    {
      "cell_type": "code",
      "source": [
        "import pandas as pd\n",
        "from scipy import stats\n",
        "\n",
        "# Read the CSV file\n",
        "data = pd.read_csv('Pokemon.csv')\n",
        "\n",
        "# Extract the caught Pokemon and flee Pokemon data\n",
        "caught_pokemon = data[data['status'] == 'Caught']\n",
        "flee_pokemon = data[data['status'] == 'Flee']\n",
        "\n",
        "# Calculate the standard deviation of caught Pokemon\n",
        "caught_std_dev = caught_pokemon['hp'].std()\n",
        "\n",
        "# Calculate the standard deviation of flee Pokemon\n",
        "flee_std_dev = flee_pokemon['hp'].std()\n",
        "\n",
        "# Print the results\n",
        "print(\"Standard deviation of caught Pokemon:\", caught_std_dev)\n",
        "print(\"Standard deviation of flee Pokemon:\", flee_std_dev)\n",
        "\n",
        "# Perform Harley test for homogeneity\n",
        "_, p_value = stats.levene(caught_pokemon['hp'], flee_pokemon['hp'])\n",
        "alpha = 0.05\n",
        "\n",
        "if p_value < alpha:\n",
        "    print(\"The caught Pokemon and flee Pokemon groups are not homogeneous.\")\n",
        "else:\n",
        "    print(\"The caught Pokemon and flee Pokemon groups are homogeneous.\")\n"
      ],
      "metadata": {
        "colab": {
          "base_uri": "https://localhost:8080/"
        },
        "id": "iC8OGAbnBlmY",
        "outputId": "bab2b1a4-09cd-44e1-ba12-69d91508c5bb"
      },
      "execution_count": 28,
      "outputs": [
        {
          "output_type": "stream",
          "name": "stdout",
          "text": [
            "Standard deviation of caught Pokemon: 44.17053585809095\n",
            "Standard deviation of flee Pokemon: 25.54954817143947\n",
            "The caught Pokemon and flee Pokemon groups are homogeneous.\n"
          ]
        }
      ]
    },
    {
      "cell_type": "markdown",
      "source": [
        "### no 4\n",
        "By using Pokemon data which caught from March 15th to March 22nd 2023, perform several activities, such:\n",
        "\n",
        "a. Use KS test to determine whether “Attack” attribute is normally distributed by using p-value = 0.05. Justify your answer by writing the calculation process! (10 poin)\n",
        "\n",
        "b. Make a histogram of “Attack” to justify your answer at point a! (5 poin)\n",
        "\n",
        "c. Use KS test to determine “Defence” is normally distributed or not by using confidential level = 99%. Justify your answer by writing the calculation process! (10 poin)\n",
        "\n",
        "d. Make a histogram of “Defence” to justify your answer at point c! (5 poin)"
      ],
      "metadata": {
        "id": "9X6SNqCnMUXk"
      }
    },
    {
      "cell_type": "code",
      "source": [
        "from scipy.stats import kstest, norm\n",
        "import matplotlib.pyplot as plt\n",
        "\n",
        "data = pd.read_csv('Pokemon.csv')\n",
        "\n",
        "attack_values = data['attack']\n",
        "\n",
        "_, p_value = kstest(attack_values, 'norm')\n",
        "alpha = 0.05\n",
        "\n",
        "if p_value < alpha:\n",
        "    print(\"The 'Attack' attribute is not normally distributed.\")\n",
        "else:\n",
        "    print(\"The 'Attack' attribute is normally distributed.\")\n",
        "\n",
        "plt.hist(attack_values, bins=20)\n",
        "plt.xlabel('attack')\n",
        "plt.ylabel('Frequency')\n",
        "plt.title('Histogram of Attack Attribute')\n",
        "plt.show()\n",
        "\n",
        "defense_values = data['def']\n",
        "\n",
        "_, p_value = kstest(defense_values, 'norm')\n",
        "alpha = 0.01  # 99% confidence level\n",
        "\n",
        "if p_value < alpha:\n",
        "    print(\"The 'Defense' attribute is not normally distributed.\")\n",
        "else:\n",
        "    print(\"The 'Defense' attribute is normally distributed.\")\n",
        "\n",
        "plt.hist(defense_values, bins=20)\n",
        "plt.xlabel('def')\n",
        "plt.ylabel('Frequency')\n",
        "plt.title('Histogram of Defense Attribute')\n",
        "plt.show()"
      ],
      "metadata": {
        "colab": {
          "base_uri": "https://localhost:8080/",
          "height": 962
        },
        "id": "B2woVoYcBZnz",
        "outputId": "d8cb13d0-4fec-4c26-f404-ea9028b748e2"
      },
      "execution_count": 19,
      "outputs": [
        {
          "output_type": "stream",
          "name": "stdout",
          "text": [
            "The 'Attack' attribute is not normally distributed.\n"
          ]
        },
        {
          "output_type": "display_data",
          "data": {
            "text/plain": [
              "<Figure size 640x480 with 1 Axes>"
            ],
            "image/png": "[encoded data removed]"
          },
          "metadata": {}
        },
        {
          "output_type": "stream",
          "name": "stdout",
          "text": [
            "The 'Defense' attribute is not normally distributed.\n"
          ]
        },
        {
          "output_type": "display_data",
          "data": {
            "text/plain": [
              "<Figure size 640x480 with 1 Axes>"
            ],
            "image/png": "[encoded data removed]"
          },
          "metadata": {}
        }
      ]
    }
  ]
}