{
  "nbformat": 4,
  "nbformat_minor": 0,
  "metadata": {
    "colab": {
      "provenance": [],
      "toc_visible": true
    },
    "kernelspec": {
      "name": "python3",
      "display_name": "Python 3"
    },
    "language_info": {
      "name": "python"
    }
  },
  "cells": [
    {
      "cell_type": "markdown",
      "source": [
        "Average"
      ],
      "metadata": {
        "id": "NbGurm0oi1-0"
      }
    },
    {
      "cell_type": "code",
      "source": [
        "apel = [100, 200, 150, 100, 120, 80, 90, 160, 110, 170]\n",
        "\n",
        "total_berat = 0\n",
        "\n",
        "for i in range(len(apel)):\n",
        "    total_berat = total_berat + apel[i]\n",
        "\n",
        "avg_apel = total_berat/len(apel)\n",
        "print(avg_apel)\n",
        "\n",
        "print('Using numpy')\n",
        "import numpy as np\n",
        "apel = [100, 200, 150, 100, 120, 80, 90, 160, 110, 170]\n",
        "avg_apel = np.mean(apel)\n",
        "print(avg_apel)"
      ],
      "metadata": {
        "id": "mip7niajiwpa"
      },
      "execution_count": null,
      "outputs": []
    },
    {
      "cell_type": "markdown",
      "source": [
        "Median"
      ],
      "metadata": {
        "id": "YZzkSCnkirwZ"
      }
    },
    {
      "cell_type": "code",
      "source": [
        "print('numpy')\n",
        "import numpy as np\n",
        "apel = [100, 200, 150, 100, 120, 80, 90, 160, 110, 170]\n",
        "med_apel = np.median(apel)\n",
        "apel.sort()\n",
        "apel_urut = ' '.join(map(str, apel))\n",
        "print('Apel urut : {:s}'.format(apel_urut))\n",
        "print(med_apel)\n",
        "\n",
        "print('native')\n",
        "import math\n",
        "\n",
        "def bubblesort(elements):\n",
        "  for n in range(len(elements)-1, 0, -1):\n",
        "    for i in range(n):\n",
        "      if elements[i] > elements[i+1]:\n",
        "        elements[i], elements[i+1] = elements[i+1], elements[i]\n",
        "  return elements\n",
        "\n",
        "def calc_median(elements):\n",
        "  elements = bubblesort(elements)\n",
        "  len_element =len(elements)\n",
        "  if len_element % 2 is 0:\n",
        "    center = math.floor(len_element/2)\n",
        "    return (elements[center-1] + elements[center]) /2\n",
        "  else:\n",
        "    return elements[math.ceil(len_element/2)-1]\n",
        "\n",
        "apel = [100,200, 150, 100, 120, 80, 90, 160, 110, 170]\n",
        "median = calc_median(apel)\n",
        "print(median)"
      ],
      "metadata": {
        "id": "EGcKqFyKikSm"
      },
      "execution_count": null,
      "outputs": []
    },
    {
      "cell_type": "markdown",
      "source": [
        "Modus"
      ],
      "metadata": {
        "id": "NbSGBIOficnJ"
      }
    },
    {
      "cell_type": "code",
      "execution_count": 8,
      "metadata": {
        "colab": {
          "base_uri": "https://localhost:8080/"
        },
        "id": "uZZZGQDXdmcq",
        "outputId": "5a40a4e1-2781-48f4-8329-7e57eff1502b"
      },
      "outputs": [
        {
          "output_type": "stream",
          "name": "stdout",
          "text": [
            "100\n",
            "ModeResult(mode=array([100]), count=array([2]))\n",
            "[100]\n"
          ]
        }
      ],
      "source": [
        "from scipy import stats\n",
        "import statistics as s\n",
        "\n",
        "apel = [100,200, 150, 100, 120, 80, 90, 160, 110, 170]\n",
        "\n",
        "mode_apel = stats.mode(apel)\n",
        "modus = s.mode(apel)\n",
        "print(modus)\n",
        "print(mode_apel)\n",
        "print(mode_apel.mode)"
      ]
    },
    {
      "cell_type": "markdown",
      "source": [
        "#Data Distribution\n",
        "range"
      ],
      "metadata": {
        "id": "z4TM4TG1nxzn"
      }
    },
    {
      "cell_type": "code",
      "source": [
        "import numpy as np\n",
        "\n",
        "data = np.array([23, 56, 45, 65, 59, 55, 62, 54, 85, 25])\n",
        "data_max = max(data)\n",
        "data_min = min(data)\n",
        "range = data_max - data_min\n",
        "print (range)"
      ],
      "metadata": {
        "colab": {
          "base_uri": "https://localhost:8080/"
        },
        "id": "almSm9yHn24F",
        "outputId": "1cd4dcd3-887d-490c-9865-c70b8ea3f362"
      },
      "execution_count": 9,
      "outputs": [
        {
          "output_type": "stream",
          "name": "stdout",
          "text": [
            "62\n"
          ]
        }
      ]
    },
    {
      "cell_type": "markdown",
      "source": [
        "how to obtain Q3 and Q1 value"
      ],
      "metadata": {
        "id": "kqk0kL0Cxa_J"
      }
    },
    {
      "cell_type": "code",
      "source": [
        "import numpy as np\n",
        "import pandas as pd\n",
        "\n",
        "data_baru = np.array([23, 56, 45, 65, 59, 55, 62, 54, 85, 25, 55])\n",
        "print(pd.DataFrame(data_baru).describe())"
      ],
      "metadata": {
        "colab": {
          "base_uri": "https://localhost:8080/"
        },
        "id": "oQG5Ny7vxfuY",
        "outputId": "90e32147-7073-486d-f187-db6caca9dd41"
      },
      "execution_count": 10,
      "outputs": [
        {
          "output_type": "stream",
          "name": "stdout",
          "text": [
            "               0\n",
            "count  11.000000\n",
            "mean   53.090909\n",
            "std    17.466852\n",
            "min    23.000000\n",
            "25%    49.500000\n",
            "50%    55.000000\n",
            "75%    60.500000\n",
            "max    85.000000\n"
          ]
        }
      ]
    },
    {
      "cell_type": "markdown",
      "source": [
        "In Pandas, the approach of finding percentile dan\n",
        "quantile (including quartile) value is performed by\n",
        "using LINEAR INTERPOLATION value\n",
        "Linear interpolation value is utilized when the\n",
        "looked value is located between two values (total\n",
        "data is even)\n",
        "Linear interpolation value can be obtained by\n",
        "𝑥𝑙𝑖𝑛𝑒𝑎𝑟 = 𝑖 + 𝑗 − 𝑖 ∗ 𝑓𝑟𝑎𝑐𝑡𝑖𝑜𝑛\n",
        "To obtain average value between two values,\n",
        "Pandas must use ‘midpoint’ where the value is\n",
        "resulted from (𝑖 + 𝑗)/2"
      ],
      "metadata": {
        "id": "ryOjWF4gzTM7"
      }
    },
    {
      "cell_type": "markdown",
      "source": [
        "scaling"
      ],
      "metadata": {
        "id": "7-zDHGxP53Tb"
      }
    },
    {
      "cell_type": "code",
      "source": [
        "import numpy as np\n",
        "import matplotlib.pyplot as plt\n",
        "from sklearn.preprocessing import MinMaxScaler, StandardScaler\n",
        "\n",
        "data_raw = np.array([\n",
        "    [2, 3, 7, 30],\n",
        "    [9, 4, 6, 1],\n",
        "    [8, 15, 2, 40],\n",
        "    [20, 10, 2, 6]\n",
        "])\n",
        "\n",
        "stand = MinMaxScaler()\n",
        "data_stand = stand.fit_transform(data_raw)\n",
        "\n",
        "plt.boxplot(data_stand)"
      ],
      "metadata": {
        "colab": {
          "base_uri": "https://localhost:8080/",
          "height": 768
        },
        "id": "w8KejBpfzU1y",
        "outputId": "bd6b36b4-b782-4834-bbf4-f822f5de5934"
      },
      "execution_count": 17,
      "outputs": [
        {
          "output_type": "execute_result",
          "data": {
            "text/plain": [
              "{'whiskers': [<matplotlib.lines.Line2D at 0x7f85393e9d90>,\n",
              "  <matplotlib.lines.Line2D at 0x7f8539381130>,\n",
              "  <matplotlib.lines.Line2D at 0x7f8539389550>,\n",
              "  <matplotlib.lines.Line2D at 0x7f85393898b0>,\n",
              "  <matplotlib.lines.Line2D at 0x7f8539397d30>,\n",
              "  <matplotlib.lines.Line2D at 0x7f85393a20d0>,\n",
              "  <matplotlib.lines.Line2D at 0x7f85393ae550>,\n",
              "  <matplotlib.lines.Line2D at 0x7f85393ae8b0>],\n",
              " 'caps': [<matplotlib.lines.Line2D at 0x7f8539381490>,\n",
              "  <matplotlib.lines.Line2D at 0x7f8539381760>,\n",
              "  <matplotlib.lines.Line2D at 0x7f8539389c10>,\n",
              "  <matplotlib.lines.Line2D at 0x7f8539389f70>,\n",
              "  <matplotlib.lines.Line2D at 0x7f85393a2430>,\n",
              "  <matplotlib.lines.Line2D at 0x7f85393a2790>,\n",
              "  <matplotlib.lines.Line2D at 0x7f85393aec10>,\n",
              "  <matplotlib.lines.Line2D at 0x7f85393aef70>],\n",
              " 'boxes': [<matplotlib.lines.Line2D at 0x7f85393e9a30>,\n",
              "  <matplotlib.lines.Line2D at 0x7f85393891f0>,\n",
              "  <matplotlib.lines.Line2D at 0x7f85393979d0>,\n",
              "  <matplotlib.lines.Line2D at 0x7f85393ae1f0>],\n",
              " 'medians': [<matplotlib.lines.Line2D at 0x7f8539381ac0>,\n",
              "  <matplotlib.lines.Line2D at 0x7f8539397310>,\n",
              "  <matplotlib.lines.Line2D at 0x7f85393a2af0>,\n",
              "  <matplotlib.lines.Line2D at 0x7f85393b7310>],\n",
              " 'fliers': [<matplotlib.lines.Line2D at 0x7f8539381dc0>,\n",
              "  <matplotlib.lines.Line2D at 0x7f8539397610>,\n",
              "  <matplotlib.lines.Line2D at 0x7f85393a2df0>,\n",
              "  <matplotlib.lines.Line2D at 0x7f85393b7610>],\n",
              " 'means': []}"
            ]
          },
          "metadata": {},
          "execution_count": 17
        },
        {
          "output_type": "display_data",
          "data": {
            "text/plain": [
              "<Figure size 432x288 with 1 Axes>"
            ],
            "image/png": "[encoded data removed]"
          },
          "metadata": {
            "needs_background": "light"
          }
        }
      ]
    }
  ]
}